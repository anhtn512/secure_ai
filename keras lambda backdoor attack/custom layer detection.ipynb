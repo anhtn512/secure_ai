{
 "cells": [
  {
   "cell_type": "code",
   "execution_count": 1,
   "id": "a6575e28-ac48-44f0-ab5f-58d1f32f3a4d",
   "metadata": {},
   "outputs": [
    {
     "name": "stderr",
     "output_type": "stream",
     "text": [
      "2024-09-15 17:35:34.470356: I tensorflow/core/util/port.cc:113] oneDNN custom operations are on. You may see slightly different numerical results due to floating-point round-off errors from different computation orders. To turn them off, set the environment variable `TF_ENABLE_ONEDNN_OPTS=0`.\n",
      "2024-09-15 17:35:34.475628: I external/local_tsl/tsl/cuda/cudart_stub.cc:31] Could not find cuda drivers on your machine, GPU will not be used.\n",
      "2024-09-15 17:35:34.595547: E external/local_xla/xla/stream_executor/cuda/cuda_dnn.cc:9261] Unable to register cuDNN factory: Attempting to register factory for plugin cuDNN when one has already been registered\n",
      "2024-09-15 17:35:34.595578: E external/local_xla/xla/stream_executor/cuda/cuda_fft.cc:607] Unable to register cuFFT factory: Attempting to register factory for plugin cuFFT when one has already been registered\n",
      "2024-09-15 17:35:34.598339: E external/local_xla/xla/stream_executor/cuda/cuda_blas.cc:1515] Unable to register cuBLAS factory: Attempting to register factory for plugin cuBLAS when one has already been registered\n",
      "2024-09-15 17:35:34.612667: I external/local_tsl/tsl/cuda/cudart_stub.cc:31] Could not find cuda drivers on your machine, GPU will not be used.\n",
      "2024-09-15 17:35:34.613699: I tensorflow/core/platform/cpu_feature_guard.cc:182] This TensorFlow binary is optimized to use available CPU instructions in performance-critical operations.\n",
      "To enable the following instructions: AVX2 AVX_VNNI FMA, in other operations, rebuild TensorFlow with the appropriate compiler flags.\n",
      "2024-09-15 17:35:36.068437: W tensorflow/compiler/tf2tensorrt/utils/py_utils.cc:38] TF-TRT Warning: Could not find TensorRT\n"
     ]
    }
   ],
   "source": [
    "# Import necessary libraries\n",
    "import logging\n",
    "import tensorflow as tf\n",
    "from tensorflow.keras.models import load_model\n",
    "from tensorflow.keras.layers import Layer"
   ]
  },
  {
   "cell_type": "code",
   "execution_count": 2,
   "id": "ffa320a3-9f3c-4b38-bd88-faaf5fa4ba6d",
   "metadata": {},
   "outputs": [],
   "source": [
    "# Configure logging\n",
    "logging.basicConfig(level=logging.WARNING)"
   ]
  },
  {
   "cell_type": "code",
   "execution_count": 3,
   "id": "0407ef37-4626-4696-bd58-57f12d0bbf40",
   "metadata": {},
   "outputs": [],
   "source": [
    "# Define the function to check for custom layers\n",
    "def check_for_custom_layers(model):\n",
    "    standard_layers = {tf.keras.layers.Dense, tf.keras.layers.Conv2D, tf.keras.layers.MaxPooling2D, \n",
    "                       tf.keras.layers.Flatten, tf.keras.layers.Dropout, tf.keras.layers.Lambda,\n",
    "                       tf.keras.layers.InputLayer, tf.keras.layers.ReLU, tf.keras.layers.BatchNormalization,\n",
    "                       tf.keras.layers.GlobalAveragePooling2D, tf.keras.layers.Reshape, tf.keras.layers.Add,\n",
    "                       tf.keras.layers.Activation, tf.keras.layers.Concatenate, tf.keras.layers.Multiply,\n",
    "                       # ... add other standard layers as needed\n",
    "                       }\n",
    "    for layer in model.layers:\n",
    "        if type(layer) not in standard_layers:\n",
    "            logging.warning(f'Model contains custom layer: {type(layer).__name__}')\n",
    "            return True\n",
    "    return False"
   ]
  },
  {
   "cell_type": "code",
   "execution_count": 4,
   "id": "daa29e79-cae2-4423-b9ec-305f8bcacad0",
   "metadata": {},
   "outputs": [],
   "source": [
    "# Custom layer example for demonstration\n",
    "class CustomLayer(Layer):\n",
    "    def call(self, inputs):\n",
    "        return inputs * 2"
   ]
  },
  {
   "cell_type": "code",
   "execution_count": 5,
   "id": "6fa6cf23-93f1-4db7-abe1-eae975eac3cc",
   "metadata": {},
   "outputs": [],
   "source": [
    "# Create a simple model for demonstration\n",
    "def create_sample_model():\n",
    "    input_layer = tf.keras.layers.Input(shape=(32, 32, 3))\n",
    "    x = tf.keras.layers.Conv2D(32, (3, 3), activation='relu')(input_layer)\n",
    "    x = CustomLayer()(x)  # Adding a custom layer\n",
    "    x = tf.keras.layers.Flatten()(x)\n",
    "    x = tf.keras.layers.Dense(10, activation='softmax')(x)\n",
    "    model = tf.keras.models.Model(inputs=input_layer, outputs=x)\n",
    "    return model"
   ]
  },
  {
   "cell_type": "code",
   "execution_count": 6,
   "id": "23d7201c-8494-4f9f-9fa6-62337231d0c1",
   "metadata": {},
   "outputs": [
    {
     "name": "stdout",
     "output_type": "stream",
     "text": [
      "WARNING:tensorflow:Compiled the loaded model, but the compiled metrics have yet to be built. `model.compile_metrics` will be empty until you train or evaluate the model.\n"
     ]
    },
    {
     "name": "stderr",
     "output_type": "stream",
     "text": [
      "/home/anhtn/secure_ai/.venv/lib/python3.10/site-packages/keras/src/engine/training.py:3103: UserWarning: You are saving your model as an HDF5 file via `model.save()`. This file format is considered legacy. We recommend using instead the native Keras format, e.g. `model.save('my_model.keras')`.\n",
      "  saving_api.save_model(\n",
      "WARNING:tensorflow:Compiled the loaded model, but the compiled metrics have yet to be built. `model.compile_metrics` will be empty until you train or evaluate the model.\n"
     ]
    }
   ],
   "source": [
    "# Save the sample model\n",
    "sample_model = create_sample_model()\n",
    "model_path = './model_with_custom_layer.h5'\n",
    "sample_model.save(model_path)"
   ]
  },
  {
   "cell_type": "code",
   "execution_count": 7,
   "id": "d9212c6f-ba4a-4db7-8746-26d13eeebca8",
   "metadata": {},
   "outputs": [
    {
     "name": "stdout",
     "output_type": "stream",
     "text": [
      "WARNING:tensorflow:No training configuration found in the save file, so the model was *not* compiled. Compile it manually.\n"
     ]
    },
    {
     "name": "stderr",
     "output_type": "stream",
     "text": [
      "WARNING:tensorflow:No training configuration found in the save file, so the model was *not* compiled. Compile it manually.\n"
     ]
    }
   ],
   "source": [
    "# Load the model from a file\n",
    "model = load_model(model_path, custom_objects={'CustomLayer': CustomLayer})"
   ]
  },
  {
   "cell_type": "code",
   "execution_count": 8,
   "id": "cb5917f3-4089-45df-b5b0-c9929e8d5dcc",
   "metadata": {},
   "outputs": [
    {
     "name": "stderr",
     "output_type": "stream",
     "text": [
      "WARNING:root:Model contains custom layer: CustomLayer\n"
     ]
    },
    {
     "name": "stdout",
     "output_type": "stream",
     "text": [
      "The model contains custom layers.\n"
     ]
    }
   ],
   "source": [
    "# Check the loaded model for custom layers\n",
    "contains_custom_layers = check_for_custom_layers(model)\n",
    "\n",
    "# Output the result\n",
    "if contains_custom_layers:\n",
    "    print(\"The model contains custom layers.\")\n",
    "else:\n",
    "    print(\"The model does not contain any custom layers.\")"
   ]
  },
  {
   "cell_type": "code",
   "execution_count": 9,
   "id": "40ee3387-a855-45d1-a032-4ea1a3d6ffa7",
   "metadata": {},
   "outputs": [
    {
     "name": "stdout",
     "output_type": "stream",
     "text": [
      "WARNING:tensorflow:No training configuration found in the save file, so the model was *not* compiled. Compile it manually.\n"
     ]
    },
    {
     "name": "stderr",
     "output_type": "stream",
     "text": [
      "WARNING:tensorflow:No training configuration found in the save file, so the model was *not* compiled. Compile it manually.\n"
     ]
    }
   ],
   "source": [
    "ciffar_model_with_lambda = load_model(\"./simple-cifar10-v1.h5\")"
   ]
  },
  {
   "cell_type": "code",
   "execution_count": 10,
   "id": "f8e58a68-1e9a-4cfe-ac58-d4b5f49fbff8",
   "metadata": {},
   "outputs": [
    {
     "name": "stderr",
     "output_type": "stream",
     "text": [
      "WARNING:root:Model contains custom layer: CustomLayer\n"
     ]
    },
    {
     "name": "stdout",
     "output_type": "stream",
     "text": [
      "The model contains custom layers.\n"
     ]
    }
   ],
   "source": [
    "# Check the loaded model for custom layers\n",
    "contains_custom_layers = check_for_custom_layers(model)\n",
    "\n",
    "# Output the result\n",
    "if contains_custom_layers:\n",
    "    print(\"The model contains custom layers.\")\n",
    "else:\n",
    "    print(\"The model does not contain any custom layers.\")"
   ]
  },
  {
   "cell_type": "code",
   "execution_count": null,
   "id": "217f356a-0efd-40f8-84f6-70e4df1dcb0c",
   "metadata": {},
   "outputs": [],
   "source": []
  }
 ],
 "metadata": {
  "kernelspec": {
   "display_name": "Python 3 (ipykernel)",
   "language": "python",
   "name": "python3"
  },
  "language_info": {
   "codemirror_mode": {
    "name": "ipython",
    "version": 3
   },
   "file_extension": ".py",
   "mimetype": "text/x-python",
   "name": "python",
   "nbconvert_exporter": "python",
   "pygments_lexer": "ipython3",
   "version": "3.10.15"
  }
 },
 "nbformat": 4,
 "nbformat_minor": 5
}
