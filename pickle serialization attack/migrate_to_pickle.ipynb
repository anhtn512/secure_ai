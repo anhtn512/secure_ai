{
 "cells": [
  {
   "cell_type": "code",
   "execution_count": 1,
   "id": "c7073a5f-43ec-4caf-9163-0096e501d64b",
   "metadata": {},
   "outputs": [
    {
     "name": "stderr",
     "output_type": "stream",
     "text": [
      "2024-09-15 09:54:52.916240: I tensorflow/core/util/port.cc:113] oneDNN custom operations are on. You may see slightly different numerical results due to floating-point round-off errors from different computation orders. To turn them off, set the environment variable `TF_ENABLE_ONEDNN_OPTS=0`.\n",
      "2024-09-15 09:54:52.921286: I external/local_tsl/tsl/cuda/cudart_stub.cc:31] Could not find cuda drivers on your machine, GPU will not be used.\n",
      "2024-09-15 09:54:52.976107: E external/local_xla/xla/stream_executor/cuda/cuda_dnn.cc:9261] Unable to register cuDNN factory: Attempting to register factory for plugin cuDNN when one has already been registered\n",
      "2024-09-15 09:54:52.976173: E external/local_xla/xla/stream_executor/cuda/cuda_fft.cc:607] Unable to register cuFFT factory: Attempting to register factory for plugin cuFFT when one has already been registered\n",
      "2024-09-15 09:54:52.978563: E external/local_xla/xla/stream_executor/cuda/cuda_blas.cc:1515] Unable to register cuBLAS factory: Attempting to register factory for plugin cuBLAS when one has already been registered\n",
      "2024-09-15 09:54:52.994392: I external/local_tsl/tsl/cuda/cudart_stub.cc:31] Could not find cuda drivers on your machine, GPU will not be used.\n",
      "2024-09-15 09:54:52.995681: I tensorflow/core/platform/cpu_feature_guard.cc:182] This TensorFlow binary is optimized to use available CPU instructions in performance-critical operations.\n",
      "To enable the following instructions: AVX2 AVX_VNNI FMA, in other operations, rebuild TensorFlow with the appropriate compiler flags.\n",
      "2024-09-15 09:54:53.984674: W tensorflow/compiler/tf2tensorrt/utils/py_utils.cc:38] TF-TRT Warning: Could not find TensorRT\n"
     ]
    }
   ],
   "source": [
    "from tensorflow.keras.models import load_model\n",
    "import pickle\n",
    "import numpy as np"
   ]
  },
  {
   "cell_type": "code",
   "execution_count": 2,
   "id": "57edcca6-709b-4635-b2dd-553816dce6c8",
   "metadata": {},
   "outputs": [],
   "source": [
    "# Step 1: Load the Keras model from the .h5 file\n",
    "h5_file_path = \"../models/simple-cifar10.h5\"\n",
    "model = load_model(h5_file_path)\n",
    "# Step 2: Save the loaded model as a .pkl file\n",
    "pkl_file_path = \"./simple-cifar10.pkl\"\n",
    "with open(pkl_file_path, 'wb') as f:\n",
    "    pickle.dump(model, f)"
   ]
  },
  {
   "cell_type": "code",
   "execution_count": 3,
   "id": "e0d6151c-0105-4ab0-a85e-e68c4c9e0801",
   "metadata": {},
   "outputs": [
    {
     "name": "stdout",
     "output_type": "stream",
     "text": [
      "1/1 [==============================] - 0s 207ms/step\n",
      "Predicted class index: 6\n"
     ]
    }
   ],
   "source": [
    "# Step 3: Load the model back from the .pkl file\n",
    "with open(pkl_file_path, 'rb') as f:\n",
    "    loaded_model = pickle.load(f)\n",
    "\n",
    "# Step 4: Make a prediction using the loaded model to test it\n",
    "# Create a random CIFAR-10 test image (32x32x3)\n",
    "test_image = np.random.rand(1, 32, 32, 3)\n",
    "\n",
    "# Make a prediction\n",
    "prediction = loaded_model.predict(test_image)\n",
    "\n",
    "# Get the class index with the highest probability\n",
    "predicted_class = np.argmax(prediction)\n",
    "\n",
    "print(f\"Predicted class index: {predicted_class}\") "
   ]
  },
  {
   "cell_type": "code",
   "execution_count": null,
   "id": "4eee04c1-1a17-4c6a-9c7c-960d714af1ff",
   "metadata": {},
   "outputs": [],
   "source": []
  }
 ],
 "metadata": {
  "kernelspec": {
   "display_name": "Python 3 (ipykernel)",
   "language": "python",
   "name": "python3"
  },
  "language_info": {
   "codemirror_mode": {
    "name": "ipython",
    "version": 3
   },
   "file_extension": ".py",
   "mimetype": "text/x-python",
   "name": "python",
   "nbconvert_exporter": "python",
   "pygments_lexer": "ipython3",
   "version": "3.10.15"
  }
 },
 "nbformat": 4,
 "nbformat_minor": 5
}
